{
 "cells": [
  {
   "cell_type": "code",
   "execution_count": 75,
   "metadata": {},
   "outputs": [],
   "source": [
    "# Imports\n",
    "import pandas as pd\n",
    "import numpy as np\n",
    "from pathlib import Path"
   ]
  },
  {
   "cell_type": "code",
   "execution_count": 76,
   "metadata": {},
   "outputs": [],
   "source": [
    "\"\"\"\n",
    "Reading in data...\n",
    "data and label are the two variables containing necessary information\n",
    "data: a pandas dataframe object with rows/index = genes, columns = expression levels of all instances\n",
    "label: a list, indices correspond to the columns in data\n",
    "\"\"\"\n",
    "adrenalDataDir = Path(\"unzipped_data/adrenal_gland\")\n",
    "kidneyDataDir = Path(\"unzipped_data/kidney\")\n",
    "adrenalData = list(adrenalDataDir.glob(\"*.txt\"))\n",
    "kidneyData = list(kidneyDataDir.glob(\"*.txt\"))\n",
    "data = pd.DataFrame(columns = [\"gene\", \"exp\"])\n",
    "label = []\n",
    "idx = 0\n",
    "for item in adrenalData:\n",
    "    instance = pd.read_csv(str(item), header = None, sep = \"\\t\")\n",
    "    instance.columns = [\"gene\",f\"exp{idx}\"]\n",
    "    if idx == 0:\n",
    "        data = instance.copy()\n",
    "    else:\n",
    "        data = data.join(instance.set_index('gene'), on = \"gene\")\n",
    "    idx += 1\n",
    "    label.append(\"adrenal\")\n",
    "\n",
    "for item in kidneyData:\n",
    "    instance = pd.read_csv(str(item), header = None, sep = \"\\t\")\n",
    "    instance.columns = [\"gene\",f\"exp{idx}\"]\n",
    "    if idx == 0:\n",
    "        data = instance.copy()\n",
    "    else:\n",
    "        data = data.join(instance.set_index('gene'), on = \"gene\")\n",
    "    idx += 1\n",
    "    label.append(\"kidney\")\n",
    "\n",
    "data = data.set_index(\"gene\")\n",
    "assert not data.isnull().values.any(), \"has some nan values\""
   ]
  },
  {
   "cell_type": "code",
   "execution_count": 77,
   "metadata": {},
   "outputs": [],
   "source": [
    "def DropEmptyGenes(inputData):\n",
    "    \"\"\"\n",
    "    This function drops all of the genes that are all 0s in both adrenal and kidney samples.\n",
    "    Args:\n",
    "        inputData (df(60483,283)): full data array with everything\n",
    "    Returns:\n",
    "        newInput (df(58233,283)): full data array without 0s for genes in both samples\n",
    "    \"\"\"\n",
    "    #Row is each gene expression\n",
    "    newInput = inputData.copy()\n",
    "    meanByRow = inputData.sum(axis = 1)\n",
    "\n",
    "    for gene in range(60483):\n",
    "        if meanByRow[gene] == 0:\n",
    "            newInput = newInput.drop(inputData.index[gene])\n",
    "\n",
    "    return newInput"
   ]
  },
  {
   "cell_type": "code",
   "execution_count": 78,
   "metadata": {},
   "outputs": [],
   "source": [
    "#Remove the genes that are 0 for all samples\n",
    "dataWO0again = DropEmptyGenes(data)\n",
    "# print(dataWO0again)"
   ]
  },
  {
   "cell_type": "code",
   "execution_count": 79,
   "metadata": {},
   "outputs": [],
   "source": [
    "def MeanCenterDF(inputData):\n",
    "    \"\"\"\n",
    "    This function mean centers the data.\n",
    "    Args:\n",
    "        inputData (df(58233,283)): full data array with everything\n",
    "    Returns:\n",
    "        meanCentered (df(58233,283)): mean centered data\n",
    "    \"\"\"\n",
    "    meanCentered = inputData.apply(lambda x: x-x.mean(), axis=1)\n",
    "\n",
    "    return meanCentered"
   ]
  },
  {
   "cell_type": "code",
   "execution_count": 80,
   "metadata": {},
   "outputs": [],
   "source": [
    "#Mean center the data\n",
    "meancenttest = MeanCenterDF(dataWO0again)\n",
    "\n",
    "# print(meancenttest)"
   ]
  },
  {
   "cell_type": "code",
   "execution_count": 81,
   "metadata": {},
   "outputs": [],
   "source": [
    "def NiaveBayesSplitData(inputData):\n",
    "    \"\"\"\n",
    "    This function splits the data into test and train, with a 20% hold out of both the adrenal\n",
    "    and kidney data.\n",
    "    Args:\n",
    "        inputData (df(58233,283)): full data array with everything\n",
    "    Returns:\n",
    "        adrenalTrain (df(58233,51)): training x values of adrenal\n",
    "        adrenalTest (df(58233,13)): testing x values of adrenal\n",
    "        kidneyTrain (df(58233,175)): training x values of kidney\n",
    "        kidneyTest (df(58233,44)): testing x values of kidney\n",
    "    \"\"\"\n",
    "    #Split data by class, kidney and adrenal\n",
    "    dataKidneyOnly = inputData.iloc[:,64:]\n",
    "    dataAdrenalOnly = inputData.iloc[:,:64]\n",
    "\n",
    "    #Select random indicies from adrenal values, total 64, selecting 13\n",
    "    adIdx = np.random.randint(0, 64, size=13) \n",
    "    #Sort from max to min for dropping correct row later\n",
    "    adIdx = np.sort(adIdx)\n",
    "    adIdx = adIdx[::-1]\n",
    "\n",
    "    #Build adrendal test and train set, initialize with the fist value added to test and\n",
    "    #dropped from train\n",
    "    adrenalTest = dataAdrenalOnly.iloc[:,adIdx[0]:adIdx[0]+1]\n",
    "    adrenalTrain = dataAdrenalOnly.drop(columns=dataAdrenalOnly.columns[adIdx[0]])\n",
    "    #Go through list of indicies to add and drop from test and train respectively\n",
    "    for i in range(1,13):\n",
    "        adrenalTest = pd.concat([adrenalTest, dataAdrenalOnly.iloc[:,adIdx[i]:adIdx[i]+1]], axis=1)\n",
    "        adrenalTrain = adrenalTrain.drop(columns=adrenalTrain.columns[adIdx[i]])\n",
    "\n",
    "\n",
    "    #Select random indicies from kidney values, total 219, selecting 44\n",
    "    kidIdx = np.random.randint(0, 219, size=44)\n",
    "    #Sort from max to min for dropping correct row later\n",
    "    kidIdx = np.sort(kidIdx)\n",
    "    kidIdx = kidIdx[::-1]\n",
    "\n",
    "    #Build kidney test and train set, initialize with the fist value added to test and\n",
    "    #dropped from train\n",
    "    kidneyTest = dataKidneyOnly.iloc[:,kidIdx[0]:kidIdx[0]+1]\n",
    "    kidneyTrain = dataKidneyOnly.drop(columns=dataKidneyOnly.columns[kidIdx[0]])\n",
    "    #Go through list of indicies to add and drop from test and train respectively\n",
    "    for j in range(1,44):\n",
    "        kidneyTest = pd.concat([kidneyTest, dataKidneyOnly.iloc[:,kidIdx[j]:kidIdx[j]+1]], axis=1)\n",
    "        kidneyTrain = kidneyTrain.drop(columns=kidneyTrain.columns[kidIdx[j]])\n",
    "\n",
    "\n",
    "    return adrenalTrain, adrenalTest, kidneyTrain, kidneyTest"
   ]
  },
  {
   "cell_type": "code",
   "execution_count": 82,
   "metadata": {},
   "outputs": [],
   "source": [
    "def CalculateMeanAndStdDevForTrain(adrenalTrain, kidneyTrain):\n",
    "    \"\"\"\n",
    "    This function  calculates the mean and standard deviation. \n",
    "    Stores them in numpy arrays for further calulations.\n",
    "    Args:\n",
    "        adrenalTrain (df(58233,51)): full train df of adrenal\n",
    "        kidneyTrain (df(58233,175)): full train df of kidney\n",
    "    Returns:\n",
    "        meanA (np.array(58233,)): mean of each column of adrenal train\n",
    "        stdDevA (np.array(58233,)): standard deviation of each column of adrenal train\n",
    "        meanK (np.array(58233,)): mean of each column of kidney train\n",
    "        stdDevK (np.array(58233,)): standard deviation of each column of kidney train\n",
    "    \"\"\"\n",
    "\n",
    "    #Calulate mean across the columns\n",
    "    meanA = adrenalTrain.mean(axis=1)\n",
    "    meanK = kidneyTrain.mean(axis=1)\n",
    "    #Convert to numpy\n",
    "    meanA = meanA.to_numpy()\n",
    "    meanK = meanK.to_numpy()\n",
    "\n",
    "    #Calulate standard deviation across the columns\n",
    "    stdDevA = adrenalTrain.std(axis=1)\n",
    "    stdDevK = kidneyTrain.std(axis=1)\n",
    "     #Convert to numpy\n",
    "    stdDevA = stdDevA.to_numpy()\n",
    "    stdDevK = stdDevK.to_numpy()\n",
    "\n",
    "    return meanA, stdDevA, meanK, stdDevK"
   ]
  },
  {
   "cell_type": "code",
   "execution_count": 83,
   "metadata": {},
   "outputs": [],
   "source": [
    "#Split data into adrenal and kidney test and train\n",
    "aTrain, aTest, kTrain, kTest = NiaveBayesSplitData(meancenttest)\n",
    "\n",
    "#Caclulate mean and std dev on train for adrenal and kidney\n",
    "meanA0, stdDevA0, meanK0, stdDevK0 = CalculateMeanAndStdDevForTrain(aTrain, kTrain)"
   ]
  },
  {
   "cell_type": "code",
   "execution_count": 20,
   "metadata": {},
   "outputs": [],
   "source": [
    "# dataWithout0 = DropEmptyGenes(data) \n",
    "# meanCentData = MeanCenterDF(dataWithout0) \n",
    "# aTrain, aTest, kTrain, Ktest = NiaveBayesSplitData(meancenttest)\n",
    "# meanA0, stdDevA0, meanK0, stdDevK0 = CalculateMeanAndStdDevForTrain(aTest, Ktest)\n",
    "# print(np.where(stdDevA0  == 0))\n",
    "# print(np.where(stdDevK0 == 0))"
   ]
  },
  {
   "cell_type": "code",
   "execution_count": 11,
   "metadata": {},
   "outputs": [],
   "source": [
    "#take out all rows with 0 that both -\n",
    "#mean center -\n",
    "# split data by training and test -\n",
    "#Split data by class, kidney_train and adrenal_train, test (both, labels hidden) -\n",
    "# meanA0, stdDevA0, meanK0, stdDevK = CalculateMenaAndStdDevForTrain(adrenal_train,kidney_train) -\n",
    "# remove rows that have 0 std dev in either stddevA0 or stdDevK from kidney_train,adrenal_train, and test -\n",
    "# calculateProb on test, append to a initially empty list\n",
    "# check that no values in the list is nan; sum(np.isnan(np.array(initially empty list)))=0\n",
    "# if not, you're all set\n",
    "# if so, let me know\n",
    "# dataKidneyOnlyMean = meancenttest.iloc[:,64:]\n",
    "# dataAdrenalOnlyMean = meancenttest.iloc[:,:64]\n",
    "# meanA0, stdDevA0, meanK0, stdDevK0 = CalculateMeanAndStdDevForTrain(dataAdrenalOnlyMean, dataKidneyOnlyMean)"
   ]
  },
  {
   "cell_type": "code",
   "execution_count": 33,
   "metadata": {},
   "outputs": [
    {
     "name": "stdout",
     "output_type": "stream",
     "text": [
      "lenth os sda is 1 (array([ 1785, 12929, 13116, 13304, 14336, 14850, 16363, 16961, 17673,\n",
      "       18147, 18425, 18432, 18451, 18472, 18619, 18775, 18800, 18813,\n",
      "       19146, 19266, 20406, 20446, 20465, 20541, 20825, 21024, 21129,\n",
      "       21169, 21208, 21250, 21270, 21673, 21727, 21743, 21788, 21836,\n",
      "       21880, 21946, 22801, 23072, 23301, 23757, 23822, 23874, 23881,\n",
      "       23926, 23957, 23958, 23966, 23982, 24062, 24080, 24103, 24112,\n",
      "       24193, 24213, 24274, 24311, 24495, 24521, 24738, 24864, 25111,\n",
      "       25632, 25703, 25760, 26127, 26354, 26404, 26722, 28783, 29211,\n",
      "       29300, 29708, 30022, 30383, 30621, 31662, 32781, 32962, 33243,\n",
      "       33700, 34011, 34600, 34702, 35281, 35377, 36808, 37362, 37663,\n",
      "       37673, 38282, 38715, 38742, 38758, 39123, 39237, 39415, 40349,\n",
      "       40358, 40416, 40419, 40422, 40516, 40534, 40571, 40595, 40647,\n",
      "       40665, 40707, 40752, 40865, 41214, 41517, 42120, 42399, 42526,\n",
      "       42818, 43244, 43529, 44714, 44938, 46763, 47899, 47972, 48026,\n",
      "       48099, 48377, 48481, 48728, 48729, 48740, 48845, 48870, 48967,\n",
      "       48972, 48977, 49164, 49417, 49715, 49780, 49832, 50566, 51967,\n",
      "       52009, 52062, 52232, 52249, 52316, 52568, 53445, 53518, 53551,\n",
      "       53758, 53852, 53866, 53980, 54093, 54376, 55023, 55043, 55156,\n",
      "       55170, 55332, 55639, 55710, 55847, 55967, 55975, 56067, 56102,\n",
      "       56746, 57447, 57512, 57625, 57800, 57802, 58014, 58195, 58216],\n",
      "      dtype=int64),) length of sdk is 1 (array([], dtype=int64),)\n",
      "(array([], dtype=int64),) (array([ 1785, 12929, 13116, 13304, 14336, 14850, 16363, 16961, 17673,\n",
      "       18147, 18425, 18432, 18451, 18472, 18619, 18775, 18800, 18813,\n",
      "       19146, 19266, 20406, 20446, 20465, 20541, 20825, 21024, 21129,\n",
      "       21169, 21208, 21250, 21270, 21673, 21727, 21743, 21788, 21836,\n",
      "       21880, 21946, 22801, 23072, 23301, 23757, 23822, 23874, 23881,\n",
      "       23926, 23957, 23958, 23966, 23982, 24062, 24080, 24103, 24112,\n",
      "       24193, 24213, 24274, 24311, 24495, 24521, 24738, 24864, 25111,\n",
      "       25632, 25703, 25760, 26127, 26354, 26404, 26722, 28783, 29211,\n",
      "       29300, 29708, 30022, 30383, 30621, 31662, 32781, 32962, 33243,\n",
      "       33700, 34011, 34600, 34702, 35281, 35377, 36808, 37362, 37663,\n",
      "       37673, 38282, 38715, 38742, 38758, 39123, 39237, 39415, 40349,\n",
      "       40358, 40416, 40419, 40422, 40516, 40534, 40571, 40595, 40647,\n",
      "       40665, 40707, 40752, 40865, 41214, 41517, 42120, 42399, 42526,\n",
      "       42818, 43244, 43529, 44714, 44938, 46763, 47899, 47972, 48026,\n",
      "       48099, 48377, 48481, 48728, 48729, 48740, 48845, 48870, 48967,\n",
      "       48972, 48977, 49164, 49417, 49715, 49780, 49832, 50566, 51967,\n",
      "       52009, 52062, 52232, 52249, 52316, 52568, 53445, 53518, 53551,\n",
      "       53758, 53852, 53866, 53980, 54093, 54376, 55023, 55043, 55156,\n",
      "       55170, 55332, 55639, 55710, 55847, 55967, 55975, 56067, 56102,\n",
      "       56746, 57447, 57512, 57625, 57800, 57802, 58014, 58195, 58216],\n",
      "      dtype=int64),)\n",
      "both is [ 1785 12929 13116 13304 14336 14850 16363 16961 17673 18147 18425 18432\n",
      " 18451 18472 18619 18775 18800 18813 19146 19266 20406 20446 20465 20541\n",
      " 20825 21024 21129 21169 21208 21250 21270 21673 21727 21743 21788 21836\n",
      " 21880 21946 22801 23072 23301 23757 23822 23874 23881 23926 23957 23958\n",
      " 23966 23982 24062 24080 24103 24112 24193 24213 24274 24311 24495 24521\n",
      " 24738 24864 25111 25632 25703 25760 26127 26354 26404 26722 28783 29211\n",
      " 29300 29708 30022 30383 30621 31662 32781 32962 33243 33700 34011 34600\n",
      " 34702 35281 35377 36808 37362 37663 37673 38282 38715 38742 38758 39123\n",
      " 39237 39415 40349 40358 40416 40419 40422 40516 40534 40571 40595 40647\n",
      " 40665 40707 40752 40865 41214 41517 42120 42399 42526 42818 43244 43529\n",
      " 44714 44938 46763 47899 47972 48026 48099 48377 48481 48728 48729 48740\n",
      " 48845 48870 48967 48972 48977 49164 49417 49715 49780 49832 50566 51967\n",
      " 52009 52062 52232 52249 52316 52568 53445 53518 53551 53758 53852 53866\n",
      " 53980 54093 54376 55023 55043 55156 55170 55332 55639 55710 55847 55967\n",
      " 55975 56067 56102 56746 57447 57512 57625 57800 57802 58014 58195 58216] len of both is 180\n",
      "both unique is [ 1785 12929 13116 13304 14336 14850 16363 16961 17673 18147 18425 18432\n",
      " 18451 18472 18619 18775 18800 18813 19146 19266 20406 20446 20465 20541\n",
      " 20825 21024 21129 21169 21208 21250 21270 21673 21727 21743 21788 21836\n",
      " 21880 21946 22801 23072 23301 23757 23822 23874 23881 23926 23957 23958\n",
      " 23966 23982 24062 24080 24103 24112 24193 24213 24274 24311 24495 24521\n",
      " 24738 24864 25111 25632 25703 25760 26127 26354 26404 26722 28783 29211\n",
      " 29300 29708 30022 30383 30621 31662 32781 32962 33243 33700 34011 34600\n",
      " 34702 35281 35377 36808 37362 37663 37673 38282 38715 38742 38758 39123\n",
      " 39237 39415 40349 40358 40416 40419 40422 40516 40534 40571 40595 40647\n",
      " 40665 40707 40752 40865 41214 41517 42120 42399 42526 42818 43244 43529\n",
      " 44714 44938 46763 47899 47972 48026 48099 48377 48481 48728 48729 48740\n",
      " 48845 48870 48967 48972 48977 49164 49417 49715 49780 49832 50566 51967\n",
      " 52009 52062 52232 52249 52316 52568 53445 53518 53551 53758 53852 53866\n",
      " 53980 54093 54376 55023 55043 55156 55170 55332 55639 55710 55847 55967\n",
      " 55975 56067 56102 56746 57447 57512 57625 57800 57802 58014 58195 58216] 180\n"
     ]
    }
   ],
   "source": [
    "# print(meanCentData.iloc[58195])\n",
    "sdA0s = np.where(stdDevA0  == 0)\n",
    "sdk0s = np.where(stdDevK0 == 0)\n",
    "print(\"lenth os sda is\", len(sdA0s), sdA0s, \"length of sdk is\", len(sdk0s), sdk0s)\n",
    "both0s = np.concatenate((sdA0s, sdk0s), axis=None)\n",
    "print(sdk0s, sdA0s)\n",
    "print(\"both is\", both0s, \"len of both is\", len(both0s))\n",
    "# bothSort = np.sort(both0s)\n",
    "# print(bothSort, \"len of sort is\", len(bothSort))\n",
    "bothUnique = np.unique(both0s)\n",
    "print(\"both unique is\", bothUnique, len(bothUnique))\n",
    "# print(\"len of kid is\", sdk0s.size, \"len of a is\", len(sdA0s), \"len of both is\", len(both0s))"
   ]
  },
  {
   "cell_type": "code",
   "execution_count": 15,
   "metadata": {},
   "outputs": [
    {
     "data": {
      "text/plain": [
       "0"
      ]
     },
     "execution_count": 15,
     "metadata": {},
     "output_type": "execute_result"
    }
   ],
   "source": [
    "# np.sum(data.loc[dataKidneyOnlyMean.index[np.where(stdDevA0  == 0)],:].to_numpy().mean(axis = 1) == 0)"
   ]
  },
  {
   "cell_type": "code",
   "execution_count": 84,
   "metadata": {},
   "outputs": [],
   "source": [
    "def RemoveStdDev0sFromData(standardDevA, standardDevK):\n",
    "    \"\"\"\n",
    "    This function tracks all the genes that result in 0 in either kidney or adrenal.\n",
    "    Merges the list, only keeps the unique values and then stores to be deleted.\n",
    "    Args:\n",
    "        standardDevA (np.array(58233,)): standard deviation of each column of adrenal train\n",
    "        standardDevK (np.array(58233,)): standard deviation of each column of kidney train\n",
    "    Returns:\n",
    "        bothUnique (np.array(random,)): list of indices to be remove, since the random split\n",
    "        on test and train, the indices may be different on different runs.\n",
    "    \"\"\"\n",
    "    #Where are the 0s?\n",
    "    sdA0s = np.array(np.where(standardDevA  == 0))\n",
    "    sdk0s = np.array(np.where(standardDevK == 0))\n",
    "    #Merge lists\n",
    "    both0s = np.append(sdA0s, sdk0s)\n",
    "    #Sort lists\n",
    "    bothSort = np.sort(both0s)\n",
    "    #Keep unique values only\n",
    "    bothUnique = np.unique(bothSort)\n",
    "\n",
    "    #returns list of indicies to be eliminated\n",
    "    return bothUnique"
   ]
  },
  {
   "cell_type": "code",
   "execution_count": 85,
   "metadata": {},
   "outputs": [],
   "source": [
    "def DropEmptyStandardDevs(inputData, uniqueListOf0):\n",
    "    \"\"\"\n",
    "    This function takes the list of indices to be deleted and deletes them from the data.\n",
    "    Args:\n",
    "        inputData (np.array(58233,283)): full data set\n",
    "        uniqueListOf0 (np.array(random,)): list of indices to be deleted\n",
    "    Returns:\n",
    "        newInput (np.array(58233-random,)): data with the indices removed\n",
    "    \"\"\"\n",
    "    #Row is each gene expression\n",
    "    newInput = inputData.copy()\n",
    "\n",
    "    for index in range(len(uniqueListOf0)):\n",
    "            newInput = newInput.drop(inputData.index[uniqueListOf0[index]])\n",
    "\n",
    "    return newInput"
   ]
  },
  {
   "cell_type": "code",
   "execution_count": 86,
   "metadata": {},
   "outputs": [
    {
     "name": "stdout",
     "output_type": "stream",
     "text": [
      "(58233, 175) (58233, 51) (58233, 44) (58233, 13)\n",
      "(57982, 175) (57982, 51) (57982, 44) (57982, 13)\n"
     ]
    }
   ],
   "source": [
    "#Check which genes give standard deviation of 0\n",
    "listToBeDeleted = RemoveStdDev0sFromData(stdDevA0, stdDevK0)\n",
    "\n",
    "#Remove those genes from test and train\n",
    "print(kTrain.shape, aTrain.shape, kTest.shape, aTest.shape)\n",
    "kTrain = DropEmptyStandardDevs(kTrain, listToBeDeleted)\n",
    "aTrain = DropEmptyStandardDevs(aTrain, listToBeDeleted)\n",
    "kTest = DropEmptyStandardDevs(kTest, listToBeDeleted)\n",
    "aTest = DropEmptyStandardDevs(aTest, listToBeDeleted)\n",
    "print(kTrain.shape, aTrain.shape, kTest.shape, aTest.shape)"
   ]
  },
  {
   "cell_type": "code",
   "execution_count": 87,
   "metadata": {},
   "outputs": [
    {
     "name": "stdout",
     "output_type": "stream",
     "text": [
      "(58233,) (58233,) (58233,) (58233,)\n",
      "(57982,) (57982,) (57982,) (57982,)\n"
     ]
    }
   ],
   "source": [
    "#Remove those genes from all means and standard deviations\n",
    "print(meanA0.shape, stdDevA0.shape, meanK0.shape, stdDevK0.shape)\n",
    "meanA0 = np.delete(meanA0, listToBeDeleted)\n",
    "stdDevA0 = np.delete(stdDevA0, listToBeDeleted)\n",
    "meanK0 = np.delete(meanK0, listToBeDeleted)\n",
    "stdDevK0 = np.delete(stdDevK0, listToBeDeleted)\n",
    "print(meanA0.shape, stdDevA0.shape, meanK0.shape, stdDevK0.shape)"
   ]
  },
  {
   "cell_type": "code",
   "execution_count": 189,
   "metadata": {},
   "outputs": [],
   "source": [
    "# meanA0, stdDevA0, meanK0, stdDevK0 = CalculateMeanAndStdDevForTrain(aTest, Ktest)\n",
    "# print(meanA0.shape, stdDevA0.shape)\n",
    "# print(meanK0.shape, stdDevK0.shape)\n",
    "# print(meanA0, stdDevA0)"
   ]
  },
  {
   "cell_type": "code",
   "execution_count": 88,
   "metadata": {},
   "outputs": [],
   "source": [
    "def CalculateProb(x, mean, stdDev):\n",
    "    \"\"\"\n",
    "    This function calculates the probability for a variable based on a mean and standard\n",
    "    deviation that is fed.\n",
    "    Args:\n",
    "        x (float): input value\n",
    "        mean (float): mean value\n",
    "        stdDev (float): standard deviation\n",
    "    Returns:\n",
    "        prob (float): the probability\n",
    "    \"\"\"\n",
    "    prob = (1/(stdDev*np.sqrt(2*np.pi)))*np.exp((-1/(2*(stdDev**2)))*(x-mean)**2)\n",
    "    return prob"
   ]
  },
  {
   "cell_type": "code",
   "execution_count": 89,
   "metadata": {},
   "outputs": [],
   "source": [
    "def CalculateProbNegLog(x, mean, stdDev):\n",
    "    \"\"\"\n",
    "    This function calculates the negative log probability for a variable based on a mean and standard\n",
    "    deviation that is fed.\n",
    "    Args:\n",
    "        x (float): input value\n",
    "        mean (float): mean value\n",
    "        stdDev (float): standard deviation\n",
    "    Returns:\n",
    "        prob (float): the probability\n",
    "    \"\"\"\n",
    "    prob = (1/(stdDev*np.sqrt(2*np.pi))) * np.exp((-1/(2*(stdDev**2)))*(x-mean)**2)\n",
    "    log = -np.log(prob)\n",
    "    return log"
   ]
  },
  {
   "cell_type": "code",
   "execution_count": 90,
   "metadata": {},
   "outputs": [],
   "source": [
    "def CalculateProbChange0BeforeLog(x, mean, stdDev):\n",
    "    \"\"\"\n",
    "    This function calculates the negative log probability for a variable based on a mean and standard\n",
    "    deviation that is fed.\n",
    "    Args:\n",
    "        x (float): input value\n",
    "        mean (float): mean value\n",
    "        stdDev (float): standard deviation\n",
    "    Returns:\n",
    "        prob (float): the probability\n",
    "    \"\"\"\n",
    "\n",
    "    prob = (1/(stdDev*np.sqrt(2*np.pi))) * np.exp((-1/(2*(stdDev**2)))*(x-mean)**2)\n",
    "    if prob == 0:\n",
    "        prob = 1e-10 #Epsilon value\n",
    "\n",
    "    log = -np.log(prob)\n",
    "    return log"
   ]
  },
  {
   "cell_type": "code",
   "execution_count": 91,
   "metadata": {},
   "outputs": [],
   "source": [
    "def CalculateProbBasedOnClass(aTest, kTest, meanA, stdDevA, meanK, stdDevK):\n",
    "    \"\"\"\n",
    "    This function calculates the probability based on kidney and adrenal class. It uses the \n",
    "    -log instead of the regular probability to get past the values vanishing after being\n",
    "    multiplied 50k times (gene length).\n",
    "    Args:\n",
    "        aTest (df(58233-?,13)): full test of adrenal\n",
    "        kTest (df(58233-?,44)): full test of kidney\n",
    "        meanA (np.array(58233-?,)): mean of each column of adrenal train\n",
    "        stdDevA (np.array(58233-?,)): standard deviation of each column of adrenal train\n",
    "        meanK (np.array(58233-?,)): mean of each column of kidney train\n",
    "        stdDevK (np.array(58233-?,)): standard deviation of each column of kidney train\n",
    "    Returns:\n",
    "        xClassProb (np.array(57,2)): matrix with probability of adrenal and kidney,\n",
    "        col 0 = adrenal col 1 = kidney. Row 0:13 = adrenal and row 13:57 = kidney\n",
    "        correspond to true classes.\n",
    "    \"\"\"\n",
    "\n",
    "    #Initialize array that will hold class probabilities of adrenal(0) and kidney(1) for each\n",
    "    #x input value\n",
    "    xClassProb = np.zeros((57, 2))\n",
    "\n",
    "    #Calcualte P(x|class) for each gene in each class for each sample\n",
    "    #Go through every gene for all adrenal samples\n",
    "    for samplesA in range(13):\n",
    "        for gene in range(len(aTest)):\n",
    "            if gene == 0:\n",
    "                xClassProb[samplesA,0] = CalculateProbChange0BeforeLog(aTest.iloc[gene,samplesA], meanA[gene], stdDevA[gene])\n",
    "                xClassProb[samplesA,1] = CalculateProbChange0BeforeLog(aTest.iloc[gene,samplesA], meanK[gene], stdDevK[gene])\n",
    "            else:\n",
    "                #Calculate probability of these samples from adrenal test as being classified as adrenal\n",
    "                xClassProb[samplesA,0] += CalculateProbChange0BeforeLog(aTest.iloc[gene,samplesA], meanA[gene], stdDevA[gene])\n",
    "\n",
    "                #Calculate probability of these samples from adrenal test as being classified as kidney\n",
    "                xClassProb[samplesA,1] += CalculateProbChange0BeforeLog(aTest.iloc[gene,samplesA], meanK[gene], stdDevK[gene])\n",
    "    \n",
    "    #Go throgh every gene for all kindey samples\n",
    "    for samplesK in range(44):\n",
    "        for gene in range(len(kTest)):\n",
    "            if gene == 0:\n",
    "                xClassProb[13+samplesK,0] = CalculateProbChange0BeforeLog(kTest.iloc[gene,samplesK], meanA[gene], stdDevA[gene])\n",
    "                xClassProb[13+samplesK,1] = CalculateProbChange0BeforeLog(kTest.iloc[gene,samplesK], meanK[gene], stdDevK[gene])\n",
    "            else:\n",
    "                #Starting at positiong [14,0] in [57,2] matrix\n",
    "                #Calculate probability of these samples from kidney test as being classified as adrenal\n",
    "                xClassProb[13+samplesK,0] += CalculateProbChange0BeforeLog(kTest.iloc[gene,samplesK], meanA[gene], stdDevA[gene])\n",
    "                #Calculate probability of these samples from kidney test as being classified as kidney\n",
    "                xClassProb[13+samplesK,1] += CalculateProbChange0BeforeLog(kTest.iloc[gene,samplesK], meanK[gene], stdDevK[gene])\n",
    "\n",
    "    #After done calculating P(x|class) must now calculate P(x|class)*P(class)\n",
    "    probAdrendal = -np.log(64/283)\n",
    "    probKidney = -np.log(219/283)\n",
    "    #Multiple the top 13 rows of adrenal sample \n",
    "    xClassProb[:,:1] = xClassProb[:,:1] + probAdrendal\n",
    "    xClassProb[:,1:] = xClassProb[:,1:] + probKidney\n",
    "    # print(\"classprob after multiplication\", xClassProb)\n",
    "\n",
    "    return xClassProb\n"
   ]
  },
  {
   "cell_type": "code",
   "execution_count": 97,
   "metadata": {},
   "outputs": [],
   "source": [
    "#Calculate the probabilities for each sample for both kidney and adrenal\n",
    "classProb = CalculateProbBasedOnClass(aTest, kTest, meanA0, stdDevA0, meanK0, stdDevK0)"
   ]
  },
  {
   "cell_type": "code",
   "execution_count": 94,
   "metadata": {},
   "outputs": [],
   "source": [
    "def WhichProbIsGreater(inputData):\n",
    "    \"\"\"\n",
    "    This function measures which probability is greater. For a log value that would be the\n",
    "    most negative, for a negative log value that is the smallest positive.\n",
    "    Args:\n",
    "        xClassProb (np.array(57,2)): matrix with probability of adrenal and kidney,\n",
    "        col 0 = adrenal col 1 = kidney. Row 0:13 = adrenal and row 13:57 = kidney\n",
    "        correspond to true classes.\n",
    "    Returns:\n",
    "        finalProb (np.array(57,)): list of final probabilities predicted\n",
    "    \"\"\"\n",
    "    finalProb = np.zeros((57, 1))\n",
    "    for index in range(57):\n",
    "        #If probability is in favor of adrenal, set value to 0\n",
    "        if inputData[index, 0] < inputData[index, 1]:\n",
    "            finalProb[index] = 0\n",
    "        #If probability is in favor of kidney, set value to 1\n",
    "        else:\n",
    "            finalProb[index] = 1\n",
    "    return finalProb"
   ]
  },
  {
   "cell_type": "code",
   "execution_count": 99,
   "metadata": {},
   "outputs": [
    {
     "name": "stdout",
     "output_type": "stream",
     "text": [
      "[[0.]\n",
      " [0.]\n",
      " [0.]\n",
      " [0.]\n",
      " [0.]\n",
      " [0.]\n",
      " [0.]\n",
      " [0.]\n",
      " [0.]\n",
      " [0.]\n",
      " [0.]\n",
      " [0.]\n",
      " [0.]\n",
      " [1.]\n",
      " [1.]\n",
      " [1.]\n",
      " [1.]\n",
      " [1.]\n",
      " [1.]\n",
      " [1.]\n",
      " [1.]\n",
      " [1.]\n",
      " [1.]\n",
      " [1.]\n",
      " [1.]\n",
      " [1.]\n",
      " [1.]\n",
      " [1.]\n",
      " [1.]\n",
      " [1.]\n",
      " [1.]\n",
      " [1.]\n",
      " [1.]\n",
      " [1.]\n",
      " [1.]\n",
      " [1.]\n",
      " [1.]\n",
      " [1.]\n",
      " [1.]\n",
      " [1.]\n",
      " [0.]\n",
      " [0.]\n",
      " [1.]\n",
      " [0.]\n",
      " [1.]\n",
      " [1.]\n",
      " [1.]\n",
      " [1.]\n",
      " [1.]\n",
      " [1.]\n",
      " [1.]\n",
      " [1.]\n",
      " [1.]\n",
      " [1.]\n",
      " [1.]\n",
      " [1.]\n",
      " [0.]]\n"
     ]
    }
   ],
   "source": [
    "#Feed the result through this function to get the most probable\n",
    "finalProb= WhichProbIsGreater(classProb)\n",
    "print(finalProb)"
   ]
  },
  {
   "cell_type": "code",
   "execution_count": 100,
   "metadata": {},
   "outputs": [],
   "source": [
    "def Precision(inputData):\n",
    "    \"\"\"\n",
    "    This function measures precision.\n",
    "    Args:\n",
    "        inputData (np.array(57,)): list of final probabilities predicted\n",
    "    Returns:\n",
    "       precisionVal (int): precision\n",
    "    \"\"\"\n",
    "    #44 true values of kidney assigned as 1\n",
    "    truePos = 44\n",
    "    #Select the adrenal test set\n",
    "    adrenalTrue = inputData[:13]\n",
    "    #Add all values together since it would be a false positive since adrenal is 0\n",
    "    falsePos = np.sum(adrenalTrue)\n",
    "    #Calculate precision\n",
    "    precisionVal = truePos / (truePos+falsePos)\n",
    "    return precisionVal"
   ]
  },
  {
   "cell_type": "code",
   "execution_count": 101,
   "metadata": {},
   "outputs": [
    {
     "name": "stdout",
     "output_type": "stream",
     "text": [
      "1.0\n"
     ]
    }
   ],
   "source": [
    "#Calculate the precision\n",
    "precision= Precision(finalProb)\n",
    "print(precision)"
   ]
  },
  {
   "cell_type": "code",
   "execution_count": 102,
   "metadata": {},
   "outputs": [],
   "source": [
    "def Recall(inputData):\n",
    "    \"\"\"\n",
    "    This function measures recall.\n",
    "    Args:\n",
    "        inputData (np.array(57,)): list of final probabilities predicted\n",
    "    Returns:\n",
    "       recallVal (int): recall\n",
    "    \"\"\"\n",
    "    #44 true values of kidney assigned as 1\n",
    "    truePos = 44\n",
    "    #Select the kidney test set\n",
    "    kidneyTrue = inputData[13:]\n",
    "    #False negative are kidney test that are 0 and should be 1\n",
    "    falseNeg = len(kidneyTrue) - np.sum(kidneyTrue)\n",
    "    #Calculate recall\n",
    "    recallVal = truePos / (truePos + falseNeg)\n",
    "    return recallVal\n"
   ]
  },
  {
   "cell_type": "code",
   "execution_count": 103,
   "metadata": {},
   "outputs": [
    {
     "name": "stdout",
     "output_type": "stream",
     "text": [
      "0.9166666666666666\n"
     ]
    }
   ],
   "source": [
    "#Calculate the recall\n",
    "recall= Recall(finalProb)\n",
    "print(recall)"
   ]
  },
  {
   "cell_type": "code",
   "execution_count": 104,
   "metadata": {},
   "outputs": [],
   "source": [
    "def F1Score(inputData):\n",
    "    \"\"\"\n",
    "    This function measure F1 score.\n",
    "    Args:\n",
    "        inputData (np.array(57,)): list of final probabilities predicted\n",
    "    Returns:\n",
    "       f1 (int): f1 score\n",
    "    \"\"\"\n",
    "    #Calculate precision\n",
    "    precisionVar = Precision(inputData)\n",
    "    #Calculate recall\n",
    "    recallVar = Recall(inputData)\n",
    "    #Calculate F1 score\n",
    "    f1 = 2*((precisionVar*recallVar)/(precisionVar+recallVar))\n",
    "    return f1"
   ]
  },
  {
   "cell_type": "code",
   "execution_count": 105,
   "metadata": {},
   "outputs": [
    {
     "name": "stdout",
     "output_type": "stream",
     "text": [
      "0.9565217391304348\n"
     ]
    }
   ],
   "source": [
    "#Calculate the f1 score\n",
    "f1 = F1Score(finalProb)\n",
    "print(f1)"
   ]
  }
 ],
 "metadata": {
  "interpreter": {
   "hash": "c5372d9ef4749bf19c8ef8e25bf25be65987d25c6117799a879e1e8d48873295"
  },
  "kernelspec": {
   "display_name": "Python 3",
   "language": "python",
   "name": "python3"
  },
  "language_info": {
   "codemirror_mode": {
    "name": "ipython",
    "version": 3
   },
   "file_extension": ".py",
   "mimetype": "text/x-python",
   "name": "python",
   "nbconvert_exporter": "python",
   "pygments_lexer": "ipython3",
   "version": "3.8.8"
  }
 },
 "nbformat": 4,
 "nbformat_minor": 2
}
